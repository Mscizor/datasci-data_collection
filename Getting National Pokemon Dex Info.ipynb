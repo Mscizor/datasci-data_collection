{
 "cells": [
  {
   "cell_type": "markdown",
   "id": "traditional-quantum",
   "metadata": {},
   "source": [
    "## Guide to Basic Scraping: Getting National Pokemon Dex Info\n",
    "based off code from Sir Briane Paul V. Samson (https://brianesamson.com/)<br>\n",
    "done as an activity for Data Science in DLSU (DATASCI)"
   ]
  },
  {
   "cell_type": "code",
   "execution_count": null,
   "id": "medieval-default",
   "metadata": {},
   "outputs": [],
   "source": [
    "import requests\n",
    "from bs4 import BeautifulSoup"
   ]
  },
  {
   "cell_type": "markdown",
   "id": "northern-bunch",
   "metadata": {},
   "source": [
    "### Get the HTML of the page you want to scrape"
   ]
  },
  {
   "cell_type": "code",
   "execution_count": null,
   "id": "innocent-national",
   "metadata": {},
   "outputs": [],
   "source": [
    "URL = 'https://bulbapedia.bulbagarden.net/wiki/List_of_Pok%C3%A9mon_by_National_Pok%C3%A9dex_number'\n",
    "html = requests.get(URL).content\n",
    "\n",
    "html"
   ]
  },
  {
   "cell_type": "code",
   "execution_count": null,
   "id": "accurate-alexandria",
   "metadata": {},
   "outputs": [],
   "source": [
    "soup = BeautifulSoup(html, 'html.parser')\n",
    "soup"
   ]
  },
  {
   "cell_type": "markdown",
   "id": "fiscal-plasma",
   "metadata": {},
   "source": [
    "### Find the content you want to get\n",
    "Looking at the actual page, we see that the Pokemon data is stored in tables so we find all table tags (put into a list by BeautifulSoup)"
   ]
  },
  {
   "cell_type": "code",
   "execution_count": null,
   "id": "emerging-client",
   "metadata": {},
   "outputs": [],
   "source": [
    "content = soup.find(id='mw-content-text')\n",
    "poke_tables = content.find_all('table')\n",
    "poke_tables"
   ]
  },
  {
   "cell_type": "markdown",
   "id": "executed-teens",
   "metadata": {},
   "source": [
    "If we pretend we can't actually look at the page, we can check the contents of the tables in the list of tables we got."
   ]
  },
  {
   "cell_type": "code",
   "execution_count": null,
   "id": "color-button",
   "metadata": {},
   "outputs": [],
   "source": [
    "def combine_whitespace(string):\n",
    "    if not None:\n",
    "        return ' '.join(string.split())\n",
    "    else:\n",
    "        return None\n",
    "    \n",
    "for i in range(len(poke_tables)):\n",
    "    print(f'Table {i:}:\\n {combine_whitespace(str(poke_tables[i].contents[0]))}')"
   ]
  },
  {
   "cell_type": "code",
   "execution_count": null,
   "id": "located-bumper",
   "metadata": {},
   "outputs": [],
   "source": [
    "chars = 500\n",
    "for i in range(len(poke_tables)):\n",
    "    text = poke_tables[i].contents[1].get_text()[0:chars]\n",
    "    print(f'Table {i:}:\\n {combine_whitespace(text)}')"
   ]
  },
  {
   "cell_type": "markdown",
   "id": "modified-spring",
   "metadata": {},
   "source": [
    "We find that we only really care about tables 1 to 9, and all the other tables we can just ignore."
   ]
  },
  {
   "cell_type": "markdown",
   "id": "random-chancellor",
   "metadata": {},
   "source": [
    "### Getting the Actual Data\n",
    "Let's test on the first table (Generation 1) so we can use that for all the generations later."
   ]
  },
  {
   "cell_type": "code",
   "execution_count": null,
   "id": "continental-saying",
   "metadata": {},
   "outputs": [],
   "source": [
    "info = poke_tables[1].contents\n",
    "for i in range(len(info)):\n",
    "    print(f'Index {i}:\\n{combine_whitespace(str(info[i]))}\\n')"
   ]
  },
  {
   "cell_type": "markdown",
   "id": "married-approach",
   "metadata": {},
   "source": [
    "The earlier code helps us see that we can ignore the even indices, so let's filter them out"
   ]
  },
  {
   "cell_type": "code",
   "execution_count": null,
   "id": "blond-bookmark",
   "metadata": {},
   "outputs": [],
   "source": [
    "for i in range(1, len(info), 2):\n",
    "    print(f'Index {i}:\\n{info[i]}\\n')"
   ]
  },
  {
   "cell_type": "markdown",
   "id": "cheap-timeline",
   "metadata": {},
   "source": [
    "All the other indices, aside from index 1, contain the data we actually need, so let's skip past it. Let's now test on just Bulbasaur how to get the information on each Pokemon."
   ]
  },
  {
   "cell_type": "code",
   "execution_count": null,
   "id": "incorporate-lawsuit",
   "metadata": {},
   "outputs": [],
   "source": [
    "bulb = info[3].contents\n",
    "for i in range(len(bulb)):\n",
    "    print(f'Index {i}:\\n {combine_whitespace(str(bulb[i]))}\\n') "
   ]
  },
  {
   "cell_type": "markdown",
   "id": "casual-lancaster",
   "metadata": {},
   "source": [
    "#### Data to be collected:\n",
    "gen dex (kdex) = index 1's text<br>\n",
    "national dex (ndex) = index 3's text<br>\n",
    "name = index 7's text<br>\n",
    "types = index 9 and optionally 11's text<br>\n",
    "URL = index 7's href attribute<br>"
   ]
  },
  {
   "cell_type": "code",
   "execution_count": null,
   "id": "unauthorized-insider",
   "metadata": {},
   "outputs": [],
   "source": [
    "bulb[7].find('a')['href']"
   ]
  },
  {
   "cell_type": "code",
   "execution_count": null,
   "id": "aging-nelson",
   "metadata": {},
   "outputs": [],
   "source": [
    "bulb_kdex = bulb[1].text.strip()\n",
    "bulb_ndex = bulb[3].text.strip()\n",
    "bulb_name = bulb[7].text.strip()\n",
    "bulb_type1 = bulb[9].text.strip()\n",
    "bulb_type2 = bulb[11].text.strip()\n",
    "bulb_URL = bulb[7].find('a')['href']\n",
    "\n",
    "bulb_json = {\n",
    "    'kdex': bulb_kdex,\n",
    "    'ndex': bulb_ndex,\n",
    "    'name': bulb_name,\n",
    "    'type1': bulb_type1,\n",
    "    'type2': bulb_type2,\n",
    "    'URL': bulb_URL\n",
    "}"
   ]
  },
  {
   "cell_type": "markdown",
   "id": "frank-flashing",
   "metadata": {},
   "source": [
    "Getting the info for each Pokemon in Gen 1:"
   ]
  },
  {
   "cell_type": "code",
   "execution_count": null,
   "id": "paperback-freight",
   "metadata": {},
   "outputs": [],
   "source": [
    "gen1_json = []\n",
    "URL = 'https://bulbapedia.bulbagarden.net/'\n",
    "for i in range(3, len(info), 2):\n",
    "    pokemon = info[i].contents\n",
    "    \n",
    "    pok_obj = {}\n",
    "    pok_obj['kdex'] = pokemon[1].text.strip()\n",
    "    pok_obj['ndex'] = pokemon[3].text.strip()\n",
    "    pok_obj['name'] = pokemon[7].text.strip()\n",
    "    types = []\n",
    "    types.append(pokemon[9].text.strip())\n",
    "    if len(pokemon) > 11:\n",
    "        types.append(pokemon[11].text.strip())\n",
    "    pok_obj['types'] = types\n",
    "    pok_obj['URL'] = URL + pokemon[7].find('a')['href']\n",
    "    pok_obj['gen'] = 1\n",
    "    gen1_json.append(pok_obj)\n",
    "\n",
    "import json\n",
    "json.dumps(gen1_json)"
   ]
  },
  {
   "cell_type": "markdown",
   "id": "authentic-talent",
   "metadata": {},
   "source": [
    "Finally getting the json for all the generations and outputting a json file:"
   ]
  },
  {
   "cell_type": "code",
   "execution_count": null,
   "id": "arctic-tobago",
   "metadata": {},
   "outputs": [],
   "source": [
    "pokemon_json = []\n",
    "URL = 'https://bulbapedia.bulbagarden.net/'\n",
    "for i in range(1, 9):\n",
    "    info = poke_tables[i].contents\n",
    "    for j in range(3, len(info), 2):\n",
    "        pokemon = info[j].contents\n",
    "\n",
    "        pok_obj = {}\n",
    "        pok_obj['kdex'] = pokemon[1].text.strip()\n",
    "        pok_obj['ndex'] = pokemon[3].text.strip()\n",
    "        pok_obj['name'] = pokemon[7].text.strip()\n",
    "        types = []\n",
    "        types.append(pokemon[9].text.strip())\n",
    "        if len(pokemon) > 11:\n",
    "            types.append(pokemon[11].text.strip())\n",
    "        pok_obj['types'] = types\n",
    "        pok_obj['URL'] = URL + pokemon[7].find('a')['href']\n",
    "        pok_obj['gen'] = i\n",
    "        pokemon_json.append(pok_obj)\n",
    "        \n",
    "pokemon_json"
   ]
  },
  {
   "cell_type": "code",
   "execution_count": null,
   "id": "recent-printing",
   "metadata": {},
   "outputs": [],
   "source": [
    "import json\n",
    "with open(\"pokemon.json\", \"w\") as outfile:\n",
    "    json.dump(pokemon_json, outfile)"
   ]
  },
  {
   "cell_type": "code",
   "execution_count": null,
   "id": "composed-torture",
   "metadata": {},
   "outputs": [],
   "source": []
  }
 ],
 "metadata": {
  "kernelspec": {
   "display_name": "Python 3",
   "language": "python",
   "name": "python3"
  },
  "language_info": {
   "codemirror_mode": {
    "name": "ipython",
    "version": 3
   },
   "file_extension": ".py",
   "mimetype": "text/x-python",
   "name": "python",
   "nbconvert_exporter": "python",
   "pygments_lexer": "ipython3",
   "version": "3.9.2"
  }
 },
 "nbformat": 4,
 "nbformat_minor": 5
}
