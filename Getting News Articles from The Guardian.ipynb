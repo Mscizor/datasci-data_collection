{
 "cells": [
  {
   "cell_type": "markdown",
   "id": "practical-selection",
   "metadata": {},
   "source": [
    "## Guide to Basic API Use: Getting News Articles from The Guardian\n",
    "based off code from Sir Briane Paul V. Samson (https://brianesamson.com/)<br>\n",
    "done as an activity for Data Science in DLSU (DATASCI)"
   ]
  },
  {
   "cell_type": "markdown",
   "id": "likely-arrival",
   "metadata": {},
   "source": [
    "#### Using The Guardian as a source\n",
    "The Open Platform is The Guardian's a public web service for their content, however we need to get an authentication key to be able to use it.<br><br>\n",
    "\n",
    "You can register one here:<br>\n",
    "https://open-platform.theguardian.com/access/<br><br>\n",
    "\n",
    "Their developer key is for non-commercial use, and it's free, so it's what we'll use.<br>\n",
    "Note that when working with any other APIs, you should check how much leeway you have. We have quite a bit here with 12 calls a second and a large 5k calls a day."
   ]
  },
  {
   "cell_type": "markdown",
   "id": "pressing-commitment",
   "metadata": {},
   "source": [
    "Once we've registered for a key, we can use that along with their extensive documentation to form a request based on our needs. <br>\n",
    "\n",
    "Documentation:<br>\n",
    "https://open-platform.theguardian.com/documentation/<br><br>\n",
    "Preview of responses when using API (as of 03/18/2021, looks to be less extensive, as it doesn't have some of the filters used later on):<br>\n",
    "https://open-platform.theguardian.com/explore/<br>\n",
    "\n",
    "<em><b>Note that the next cell takes from a text file, please assign your own API key to it.</b></em>"
   ]
  },
  {
   "cell_type": "code",
   "execution_count": null,
   "id": "arctic-upper",
   "metadata": {},
   "outputs": [],
   "source": [
    "with open('api-key.txt') as f:\n",
    "    contents = f.readlines()\n",
    "api_key = contents[0]\n",
    "api_key"
   ]
  },
  {
   "cell_type": "markdown",
   "id": "vertical-excess",
   "metadata": {},
   "source": [
    "I've already built a request through their Content endpoint (<em>Endpoint URL: https://content.guardianapis.com/search</em>).<br>\n",
    "\n",
    "<b>Parameters:</b><br>\n",
    "api-key: our API key<br>\n",
    "format: json<br><br>\n",
    "\n",
    "<b>Filters:</b><br>\n",
    "from-date (2021-03-11) and to-date (2021-03-12): filter to only articles within these dates<br>\n",
    "page (1, 2, and 3 over loops): to get a specific page of the articles they have<br>\n",
    "page-size (200): number of articles we can get over a single request<br><br>\n",
    "\n",
    "<b>Additional Info:</b><br>\n",
    "show-fields (byline): to be able to get the author<br>\n",
    "show-blocks (body): contained the full article<br>"
   ]
  },
  {
   "cell_type": "code",
   "execution_count": null,
   "id": "physical-psychology",
   "metadata": {},
   "outputs": [],
   "source": [
    "import pandas as pd\n",
    "import requests\n",
    "import json\n",
    "\n",
    "responses = []\n",
    "for i in range(3):\n",
    "    page = i+1\n",
    "    from_date = '2021-03-11'\n",
    "    to_date = '2021-03-12'\n",
    "    URL = f'https://content.guardianapis.com/search?format=json&from-date={from_date}&to-date={to_date}&show-fields=byline&show-blocks=body&page={page}&page-size=200&api-key='\n",
    "    responses.append(requests.get(URL + api_key).text)\n",
    "    \n",
    "len(responses)"
   ]
  },
  {
   "cell_type": "markdown",
   "id": "secondary-branch",
   "metadata": {},
   "source": [
    "#### Since we already got the response in a json format, we can just load it and extract the info we need:\n",
    "\n",
    "date: ['fullPublicationDate']<br>\n",
    "title: ['webTitle']<br>\n",
    "fullArticle: ['blocks']['body'][0]['bodyTextSummary']<br>\n",
    "author: ['fields']['byline']"
   ]
  },
  {
   "cell_type": "code",
   "execution_count": null,
   "id": "dense-sitting",
   "metadata": {},
   "outputs": [],
   "source": [
    "news_source_json = json.loads(responses[0])\n",
    "news_source_json['response']"
   ]
  },
  {
   "cell_type": "code",
   "execution_count": null,
   "id": "reserved-gathering",
   "metadata": {},
   "outputs": [],
   "source": [
    "news_source_json = news_source_json['response']['results']\n",
    "news_source_json"
   ]
  },
  {
   "cell_type": "code",
   "execution_count": null,
   "id": "saving-count",
   "metadata": {},
   "outputs": [],
   "source": [
    "sports_article = news_source_json[0]\n",
    "sports_article"
   ]
  },
  {
   "cell_type": "code",
   "execution_count": null,
   "id": "enclosed-astronomy",
   "metadata": {},
   "outputs": [],
   "source": [
    "data = {}\n",
    "data['date'] = sports_article['webPublicationDate']\n",
    "data['title'] = sports_article['webTitle']\n",
    "data['fullArticle'] = sports_article['blocks']['body'][0]['bodyTextSummary']\n",
    "data['author'] = sports_article['fields']['byline']\n",
    "print(f\"Author: {data['author']}\\n\")\n",
    "print(f\"Full Article:\\n{data['fullArticle']}\")"
   ]
  },
  {
   "cell_type": "markdown",
   "id": "southern-tomorrow",
   "metadata": {},
   "source": [
    "### Notable Articles with Weird or Missing Info:\n",
    "No Author<br>\n",
    "https://www.theguardian.com/fashion/2021/mar/12/from-celebrity-sex-toys-to-connells-chain-this-weeks-fashion-trends<br><br>\n",
    "\n",
    "Crossword article, no \"full article\"<br>\n",
    "https://www.theguardian.com/crosswords/cryptic/28390<br>\n",
    "https://www.theguardian.com/crosswords/cryptic/28391<br><br>\n",
    "\n",
    "Liveblogs (one of many)<br>\n",
    "https://www.theguardian.com/football/live/2021/mar/12/newcastle-v-aston-villa-premier-league-live<br><br>\n",
    "\n",
    "Let's add a filter to filter out crosswords and other types of articles (live blogs) to the previous code."
   ]
  },
  {
   "cell_type": "code",
   "execution_count": null,
   "id": "difficult-watts",
   "metadata": {},
   "outputs": [],
   "source": [
    "news_json = []\n",
    "\n",
    "for response in responses:\n",
    "    articles = json.loads(response)['response']['results']\n",
    "    for article in articles:\n",
    "        if article['type'] != 'article': # just skips the article if it isn't considered an article\n",
    "            continue\n",
    "        data = {}\n",
    "        data['date'] = article['webPublicationDate']\n",
    "        data['title'] = article['webTitle']\n",
    "        if len(article['blocks']['body']) > 0:\n",
    "            data['fullArticle'] = article['blocks']['body'][0]['bodyTextSummary']\n",
    "        else:\n",
    "            data['fullArticle'] = None\n",
    "        if 'fields' in article:\n",
    "            data['author'] = article['fields']['byline']\n",
    "        else:\n",
    "            data['author'] = None\n",
    "        news_json.append(data)\n",
    "\n",
    "len(news_json)"
   ]
  },
  {
   "cell_type": "code",
   "execution_count": null,
   "id": "super-stationery",
   "metadata": {},
   "outputs": [],
   "source": [
    "with open(\"news.json\", \"w\") as outfile:\n",
    "    json.dump(news_json, outfile)"
   ]
  },
  {
   "cell_type": "code",
   "execution_count": null,
   "id": "instructional-crown",
   "metadata": {},
   "outputs": [],
   "source": []
  }
 ],
 "metadata": {
  "kernelspec": {
   "display_name": "Python 3",
   "language": "python",
   "name": "python3"
  },
  "language_info": {
   "codemirror_mode": {
    "name": "ipython",
    "version": 3
   },
   "file_extension": ".py",
   "mimetype": "text/x-python",
   "name": "python",
   "nbconvert_exporter": "python",
   "pygments_lexer": "ipython3",
   "version": "3.9.2"
  }
 },
 "nbformat": 4,
 "nbformat_minor": 5
}
